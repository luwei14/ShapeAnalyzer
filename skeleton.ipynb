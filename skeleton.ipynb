{
 "cells": [
  {
   "cell_type": "code",
   "execution_count": 1,
   "metadata": {},
   "outputs": [
    {
     "data": {
      "image/png": "[encoded data removed]",
      "text/plain": [
       "<matplotlib.figure.Figure at 0x7f6d724bc390>"
      ]
     },
     "metadata": {},
     "output_type": "display_data"
    }
   ],
   "source": [
    "import matplotlib.pyplot as plt\n",
    "import numpy as np\n",
    "plt.axis(\"equal\")\n",
    "fig_size = [10,10]\n",
    "plt.rcParams[\"figure.figsize\"] = fig_size\n",
    "\n",
    "data =np.array([[40, 50],\n",
    "       [40, 520],\n",
    "       [625,425],\n",
    "       [500,325],\n",
    "       [635,250],\n",
    "       [635,10],\n",
    "       [250,40],\n",
    "       [200,200],\n",
    "       [100,50],\n",
    "       [40, 50]])\n",
    "\n",
    "plt.plot(data[:,0],-data[:,1])\n",
    "plt.show()\n"
   ]
  },
  {
   "cell_type": "code",
   "execution_count": 2,
   "metadata": {},
   "outputs": [
    {
     "name": "stdout",
     "output_type": "stream",
     "text": [
      "Ray (Point ( 0.0, 0.0 ), Vector2 (0.71, 0.71)) Ray (Point ( 0.0, 1.0 ), Vector2 (0.71, -0.71))\n",
      "Point ( 0.5, 0.5 )\n"
     ]
    }
   ],
   "source": [
    "from shapeanalyzer.vectmat import Vector2\n",
    "from shapeanalyzer.shapes import Point, LineSegment, Ray\n",
    "\n",
    "def bisector(po, p1, p2):\n",
    "    v1 = Vector2(p1.x-po.x, p1.y-po.y).normalize()\n",
    "    v2 = Vector2(p2.x-po.x, p2.y-po.y).normalize()\n",
    "    bv = v1+v2\n",
    "    return Ray(po,bv.normalize())\n",
    "\n",
    "p0 = Point(0,0)\n",
    "p1 = Point(1,0)\n",
    "p2 = Point(0,1)\n",
    "p3 = Point(1,1)\n",
    "ray1 = bisector(p0,p1,p2)\n",
    "ray2 = bisector(p2,p0,p3)\n",
    "print ray1, ray2\n",
    "rint = ray1.intersection(ray2)\n",
    "print rint\n"
   ]
  },
  {
   "cell_type": "code",
   "execution_count": null,
   "metadata": {
    "collapsed": true
   },
   "outputs": [],
   "source": []
  }
 ],
 "metadata": {
  "kernelspec": {
   "display_name": "Python 2",
   "language": "python",
   "name": "python2"
  },
  "language_info": {
   "codemirror_mode": {
    "name": "ipython",
    "version": 2
   },
   "file_extension": ".py",
   "mimetype": "text/x-python",
   "name": "python",
   "nbconvert_exporter": "python",
   "pygments_lexer": "ipython2",
   "version": "2.7.12"
  }
 },
 "nbformat": 4,
 "nbformat_minor": 2
}
