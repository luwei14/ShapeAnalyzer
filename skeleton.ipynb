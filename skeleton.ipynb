{
 "cells": [
  {
   "cell_type": "code",
   "execution_count": 9,
   "metadata": {},
   "outputs": [
    {
     "data": {
      "image/png": "[encoded data removed]",
      "text/plain": [
       "<matplotlib.figure.Figure at 0x7f218e37c390>"
      ]
     },
     "metadata": {},
     "output_type": "display_data"
    }
   ],
   "source": [
    "import matplotlib.pyplot as plt\n",
    "import matplotlib.patches as patches\n",
    "import numpy as np\n",
    "plt.axis(\"equal\")\n",
    "fig_size = [10,10]\n",
    "plt.rcParams[\"figure.figsize\"] = fig_size\n",
    "\n",
    "data =np.array([[40, 50],\n",
    "       [40, 520],\n",
    "       [625,425],\n",
    "       [500,325],\n",
    "       [635,250],\n",
    "       [635,10],\n",
    "       [250,40],\n",
    "       [200,200],\n",
    "       [100,50]])\n",
    "\n",
    "poly = plt.Polygon(data,edgecolor=\"k\",closed=True)\n",
    "plt.gca().add_patch(poly)\n",
    "#plt.plot(data[:,0],-data[:,1])\n",
    "plt.show()\n"
   ]
  },
  {
   "cell_type": "code",
   "execution_count": 5,
   "metadata": {},
   "outputs": [
    {
     "name": "stdout",
     "output_type": "stream",
     "text": [
      "Point ( 0.0, 0.0 ) Point ( 1.0, 0.0 ) Point ( 0.0, 1.0 )\n",
      "Vector2 (1.00, 0.00) Vector2 (0.00, 1.00)\n",
      "Vector2 (1.00, 1.00)\n",
      "Point ( 0.0, 1.0 ) Point ( 0.0, 0.0 ) Point ( 1.0, 1.0 )\n",
      "Vector2 (0.00, -1.00) Vector2 (1.00, 0.00)\n",
      "Vector2 (1.00, -1.00)\n",
      "Ray (Point ( 0.0, 0.0 ), Vector2 (0.71, 0.71)) Ray (Point ( 0.0, 1.0 ), Vector2 (0.71, -0.71))\n",
      "Point ( 0.5, 0.5 )\n"
     ]
    }
   ],
   "source": [
    "from shapeanalyzer.vectmat import Vector2\n",
    "from shapeanalyzer.shapes import Point, LineSegment, Ray\n",
    "\n",
    "def bisector(po, p1, p2):\n",
    "    print po,p1,p2\n",
    "    v1 = Vector2(p1.x-po.x, p1.y-po.y).normalize()\n",
    "    v2 = Vector2(p2.x-po.x, p2.y-po.y).normalize()\n",
    "    print v1, v2\n",
    "    bv = v1+v2\n",
    "    print bv\n",
    "    return Ray(po,bv.normalize())\n",
    "\n",
    "p0 = Point(0,0)\n",
    "p1 = Point(1,0)\n",
    "p2 = Point(0,1)\n",
    "p3 = Point(1,1)\n",
    "ray1 = bisector(p0,p1,p2)\n",
    "ray2 = bisector(p2,p0,p3)\n",
    "print ray1, ray2\n",
    "rint = ray1.intersection(ray2)\n",
    "print rint\n"
   ]
  },
  {
   "cell_type": "code",
   "execution_count": 6,
   "metadata": {},
   "outputs": [
    {
     "name": "stdout",
     "output_type": "stream",
     "text": [
      "[Point ( 40.0, 50.0 ), Point ( 40.0, 520.0 ), Point ( 625.0, 425.0 ), Point ( 500.0, 325.0 ), Point ( 635.0, 250.0 ), Point ( 635.0, 10.0 ), Point ( 250.0, 40.0 ), Point ( 200.0, 200.0 ), Point ( 100.0, 50.0 )]\n",
      "Point ( 40.0, 50.0 ) Point ( 100.0, 50.0 ) Point ( 40.0, 520.0 )\n",
      "Vector2 (1.00, 0.00) Vector2 (0.00, 1.00)\n",
      "Vector2 (1.00, 1.00)\n",
      "Point ( 100.0, 50.0 ) Point ( 200.0, 200.0 ) Point ( 40.0, 50.0 )\n",
      "Vector2 (0.55, 0.83) Vector2 (-1.00, 0.00)\n",
      "Vector2 (-0.45, 0.83)\n",
      "Point ( 40.0, 520.0 ) Point ( 40.0, 50.0 ) Point ( 625.0, 425.0 )\n",
      "Vector2 (0.00, -1.00) Vector2 (0.99, -0.16)\n",
      "Vector2 (0.99, -1.16)\n",
      "Point ( 40.0, 520.0 ) Point ( 40.0, 50.0 ) Point ( 625.0, 425.0 )\n",
      "Vector2 (0.00, -1.00) Vector2 (0.99, -0.16)\n",
      "Vector2 (0.99, -1.16)\n",
      "Point ( 40.0, 50.0 ) Point ( 100.0, 50.0 ) Point ( 40.0, 520.0 )\n",
      "Vector2 (1.00, 0.00) Vector2 (0.00, 1.00)\n",
      "Vector2 (1.00, 1.00)\n",
      "Point ( 625.0, 425.0 ) Point ( 40.0, 520.0 ) Point ( 500.0, 325.0 )\n",
      "Vector2 (-0.99, 0.16) Vector2 (-0.78, -0.62)\n",
      "Vector2 (-1.77, -0.46)\n",
      "Point ( 625.0, 425.0 ) Point ( 40.0, 520.0 ) Point ( 500.0, 325.0 )\n",
      "Vector2 (-0.99, 0.16) Vector2 (-0.78, -0.62)\n",
      "Vector2 (-1.77, -0.46)\n",
      "Point ( 40.0, 520.0 ) Point ( 40.0, 50.0 ) Point ( 625.0, 425.0 )\n",
      "Vector2 (0.00, -1.00) Vector2 (0.99, -0.16)\n",
      "Vector2 (0.99, -1.16)\n",
      "Point ( 500.0, 325.0 ) Point ( 625.0, 425.0 ) Point ( 635.0, 250.0 )\n",
      "Vector2 (0.78, 0.62) Vector2 (0.87, -0.49)\n",
      "Vector2 (1.66, 0.14)\n",
      "Point ( 500.0, 325.0 ) Point ( 625.0, 425.0 ) Point ( 635.0, 250.0 )\n",
      "Vector2 (0.78, 0.62) Vector2 (0.87, -0.49)\n",
      "Vector2 (1.66, 0.14)\n",
      "Point ( 625.0, 425.0 ) Point ( 40.0, 520.0 ) Point ( 500.0, 325.0 )\n",
      "Vector2 (-0.99, 0.16) Vector2 (-0.78, -0.62)\n",
      "Vector2 (-1.77, -0.46)\n",
      "Point ( 635.0, 250.0 ) Point ( 500.0, 325.0 ) Point ( 635.0, 10.0 )\n",
      "Vector2 (-0.87, 0.49) Vector2 (0.00, -1.00)\n",
      "Vector2 (-0.87, -0.51)\n",
      "Point ( 635.0, 250.0 ) Point ( 500.0, 325.0 ) Point ( 635.0, 10.0 )\n",
      "Vector2 (-0.87, 0.49) Vector2 (0.00, -1.00)\n",
      "Vector2 (-0.87, -0.51)\n",
      "Point ( 500.0, 325.0 ) Point ( 625.0, 425.0 ) Point ( 635.0, 250.0 )\n",
      "Vector2 (0.78, 0.62) Vector2 (0.87, -0.49)\n",
      "Vector2 (1.66, 0.14)\n",
      "Point ( 635.0, 10.0 ) Point ( 635.0, 250.0 ) Point ( 250.0, 40.0 )\n",
      "Vector2 (0.00, 1.00) Vector2 (-1.00, 0.08)\n",
      "Vector2 (-1.00, 1.08)\n",
      "Point ( 635.0, 10.0 ) Point ( 635.0, 250.0 ) Point ( 250.0, 40.0 )\n",
      "Vector2 (0.00, 1.00) Vector2 (-1.00, 0.08)\n",
      "Vector2 (-1.00, 1.08)\n",
      "Point ( 635.0, 250.0 ) Point ( 500.0, 325.0 ) Point ( 635.0, 10.0 )\n",
      "Vector2 (-0.87, 0.49) Vector2 (0.00, -1.00)\n",
      "Vector2 (-0.87, -0.51)\n",
      "Point ( 250.0, 40.0 ) Point ( 635.0, 10.0 ) Point ( 200.0, 200.0 )\n",
      "Vector2 (1.00, -0.08) Vector2 (-0.30, 0.95)\n",
      "Vector2 (0.70, 0.88)\n",
      "Point ( 250.0, 40.0 ) Point ( 635.0, 10.0 ) Point ( 200.0, 200.0 )\n",
      "Vector2 (1.00, -0.08) Vector2 (-0.30, 0.95)\n",
      "Vector2 (0.70, 0.88)\n",
      "Point ( 635.0, 10.0 ) Point ( 635.0, 250.0 ) Point ( 250.0, 40.0 )\n",
      "Vector2 (0.00, 1.00) Vector2 (-1.00, 0.08)\n",
      "Vector2 (-1.00, 1.08)\n",
      "Point ( 200.0, 200.0 ) Point ( 250.0, 40.0 ) Point ( 100.0, 50.0 )\n",
      "Vector2 (0.30, -0.95) Vector2 (-0.55, -0.83)\n",
      "Vector2 (-0.26, -1.79)\n",
      "Point ( 200.0, 200.0 ) Point ( 250.0, 40.0 ) Point ( 100.0, 50.0 )\n",
      "Vector2 (0.30, -0.95) Vector2 (-0.55, -0.83)\n",
      "Vector2 (-0.26, -1.79)\n",
      "Point ( 250.0, 40.0 ) Point ( 635.0, 10.0 ) Point ( 200.0, 200.0 )\n",
      "Vector2 (1.00, -0.08) Vector2 (-0.30, 0.95)\n",
      "Vector2 (0.70, 0.88)\n",
      "Point ( 100.0, 50.0 ) Point ( 200.0, 200.0 ) Point ( 40.0, 50.0 )\n",
      "Vector2 (0.55, 0.83) Vector2 (-1.00, 0.00)\n",
      "Vector2 (-0.45, 0.83)\n",
      "Point ( 100.0, 50.0 ) Point ( 200.0, 200.0 ) Point ( 40.0, 50.0 )\n",
      "Vector2 (0.55, 0.83) Vector2 (-1.00, 0.00)\n",
      "Vector2 (-0.45, 0.83)\n",
      "Point ( 200.0, 200.0 ) Point ( 250.0, 40.0 ) Point ( 100.0, 50.0 )\n",
      "Vector2 (0.30, -0.95) Vector2 (-0.55, -0.83)\n",
      "Vector2 (-0.26, -1.79)\n",
      "Point ( 40.0, 50.0 ) Point ( 100.0, 50.0 ) Point ( 40.0, 520.0 )\n",
      "Vector2 (1.00, 0.00) Vector2 (0.00, 1.00)\n",
      "Vector2 (1.00, 1.00)\n"
     ]
    }
   ],
   "source": [
    "points = []\n",
    "for d in data:\n",
    "    p = Point(d[0],d[1])\n",
    "    points.append(p)\n",
    "print points\n",
    "N = len(points)\n",
    "for i in range(N):\n",
    "    ppi = (i-2 + N) % N\n",
    "    pi = (i-1 + N) % N\n",
    "    ni = (i+1 + N) % N\n",
    "    nni = (i+2 + N) % N\n",
    "    pprev = points[ppi]\n",
    "    prev = points[pi]\n",
    "    curr = points[i]\n",
    "    next = points[ni]\n",
    "    nnext = points[nni]\n",
    "    cray = bisector(curr, prev, next)\n",
    "    pray = bisector(prev, pprev, curr)\n",
    "    nray = bisector(next, curr, nnext)\n",
    "    \n",
    "    "
   ]
  },
  {
   "cell_type": "code",
   "execution_count": null,
   "metadata": {
    "collapsed": true
   },
   "outputs": [],
   "source": []
  }
 ],
 "metadata": {
  "kernelspec": {
   "display_name": "Python 2",
   "language": "python",
   "name": "python2"
  },
  "language_info": {
   "codemirror_mode": {
    "name": "ipython",
    "version": 2
   },
   "file_extension": ".py",
   "mimetype": "text/x-python",
   "name": "python",
   "nbconvert_exporter": "python",
   "pygments_lexer": "ipython2",
   "version": "2.7.12"
  }
 },
 "nbformat": 4,
 "nbformat_minor": 2
}
